{
 "cells": [
  {
   "cell_type": "code",
   "execution_count": 1,
   "metadata": {},
   "outputs": [
    {
     "name": "stdout",
     "output_type": "stream",
     "text": [
      "31\n"
     ]
    }
   ],
   "source": [
    "#calcular la mediana\n",
    "\n",
    "import statistics as stats\n",
    "edades = [22, 23, 26, 26, 26, 34, 34, 38, 40, 41]\n",
    "print(stats.mean(edades))"
   ]
  },
  {
   "cell_type": "code",
   "execution_count": 2,
   "metadata": {},
   "outputs": [
    {
     "name": "stdout",
     "output_type": "stream",
     "text": [
      "26\n"
     ]
    }
   ],
   "source": [
    "#calcular la moda\n",
    "\n",
    "import statistics as stats\n",
    "edades = [22, 23, 26, 26, 26, 34, 34, 38, 40, 41]\n",
    "print(stats.mode(edades))"
   ]
  },
  {
   "cell_type": "code",
   "execution_count": 3,
   "metadata": {},
   "outputs": [
    {
     "name": "stdout",
     "output_type": "stream",
     "text": [
      "46.8\n"
     ]
    }
   ],
   "source": [
    "#calcular la varianza\n",
    "\n",
    "import statistics as stats\n",
    "edades = [22, 23, 26, 26, 26, 34, 34, 38, 40, 41]\n",
    "print(stats.pvariance(edades))"
   ]
  },
  {
   "cell_type": "code",
   "execution_count": 4,
   "metadata": {},
   "outputs": [
    {
     "name": "stdout",
     "output_type": "stream",
     "text": [
      "6.841052550594828\n"
     ]
    }
   ],
   "source": [
    "#calcular la desviacion estandar\n",
    "\n",
    "import statistics as stats\n",
    "edades = [22, 23, 26, 26, 26, 34, 34, 38, 40, 41]\n",
    "print(stats.pstdev(edades))\n"
   ]
  }
 ],
 "metadata": {
  "kernelspec": {
   "display_name": "Python 3",
   "language": "python",
   "name": "python3"
  },
  "language_info": {
   "codemirror_mode": {
    "name": "ipython",
    "version": 3
   },
   "file_extension": ".py",
   "mimetype": "text/x-python",
   "name": "python",
   "nbconvert_exporter": "python",
   "pygments_lexer": "ipython3",
   "version": "3.6.3"
  }
 },
 "nbformat": 4,
 "nbformat_minor": 2
}
